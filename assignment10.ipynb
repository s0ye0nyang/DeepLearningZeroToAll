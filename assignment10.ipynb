{
  "nbformat": 4,
  "nbformat_minor": 0,
  "metadata": {
    "colab": {
      "name": "assignment10.ipynb",
      "provenance": [],
      "private_outputs": true,
      "mount_file_id": "1UJ9BfZfu9gnbwFHkrsIWfGQQlxTGLfDe",
      "authorship_tag": "ABX9TyNS39goMnVmLhO9YBVb2OaQ",
      "include_colab_link": true
    },
    "kernelspec": {
      "name": "python3",
      "display_name": "Python 3"
    }
  },
  "cells": [
    {
      "cell_type": "markdown",
      "metadata": {
        "id": "view-in-github",
        "colab_type": "text"
      },
      "source": [
        "<a href=\"https://colab.research.google.com/github/s0ye0nyang/DeepLearningZeroToAll/blob/master/assignment10.ipynb\" target=\"_parent\"><img src=\"https://colab.research.google.com/assets/colab-badge.svg\" alt=\"Open In Colab\"/></a>"
      ]
    },
    {
      "cell_type": "code",
      "metadata": {
        "id": "qbqlwGol6enF",
        "colab_type": "code",
        "colab": {}
      },
      "source": [
        "import matplotlib.pyplot as plt\n",
        "import numpy as np\n",
        "\n",
        "file_data   = \"/content/drive/My Drive/Data/mnist.csv\"\n",
        "handle_file = open(file_data, \"r\")\n",
        "data        = handle_file.readlines()\n",
        "handle_file.close()\n",
        "\n",
        "size_row    = 28    # height of the image\n",
        "size_col    = 28    # width of the image\n",
        "\n",
        "num_image   = len(data)\n",
        "count       = 0     # count for the number of images\n",
        "\n",
        "#\n",
        "# normalize the values of the input data to be [0, 1]\n",
        "#\n",
        "def normalize(data):\n",
        "\n",
        "    data_normalized = (data - min(data)) / (max(data) - min(data))\n",
        "\n",
        "    return(data_normalized)\n",
        "\n",
        "#\n",
        "# example of distance function between two vectors x and y\n",
        "#\n",
        "def distance(x, y):\n",
        "\n",
        "    d = (x - y) ** 2\n",
        "    s = np.sum(d)\n",
        "    # r = np.sqrt(s)\n",
        "\n",
        "    return(s)\n",
        "\n",
        "#\n",
        "# make a matrix each column of which represents an images in a vector form\n",
        "#\n",
        "list_image  = np.empty((size_row * size_col, num_image), dtype=float)\n",
        "list_label  = np.empty(num_image, dtype=int)\n",
        "\n",
        "for line in data:\n",
        "\n",
        "    line_data   = line.split(',')\n",
        "    label       = line_data[0]\n",
        "    im_vector   = np.asfarray(line_data[1:])\n",
        "    im_vector   = normalize(im_vector)\n",
        "\n",
        "    list_label[count]       = label\n",
        "    list_image[:, count]    = im_vector\n",
        "\n",
        "    count += 1\n",
        "\n",
        "#\n",
        "# plot first 150 images out of 10,000 with their labels\n",
        "#\n",
        "# f1 = plt.figure(1)\n",
        "\n",
        "# for i in range(150):\n",
        "\n",
        "#     label       = list_label[i]\n",
        "#     im_vector   = list_image[:, i]\n",
        "#     im_matrix   = im_vector.reshape((size_row, size_col))\n",
        "\n",
        "#     plt.subplot(10, 15, i+1)\n",
        "#     plt.title(label)\n",
        "#     plt.imshow(im_matrix, cmap='Greys', interpolation='None')\n",
        "\n",
        "#     frame   = plt.gca()\n",
        "#     frame.axes.get_xaxis().set_visible(False)\n",
        "#     frame.axes.get_yaxis().set_visible(False)\n",
        "\n",
        "\n",
        "#plt.show()\n",
        "\n",
        "#\n",
        "# plot the average image of all the images for each digit\n",
        "#\n",
        "# f2 = plt.figure(2)\n",
        "\n",
        "# im_average  = np.zeros((size_row * size_col, 10), dtype=float)\n",
        "# im_count    = np.zeros(10, dtype=int)\n",
        "\n",
        "# for i in range(num_image):\n",
        "\n",
        "#     im_average[:, list_label[i]] += list_image[:, i]\n",
        "#     im_count[list_label[i]] += 1\n",
        "    \n",
        "\n",
        "# for i in range(10):\n",
        "\n",
        "#     im_average[:, i] /= im_count[i]\n",
        "\n",
        "#     plt.subplot(2, 5, i+1)\n",
        "#     plt.title(i)\n",
        "#     plt.imshow(im_average[:,i].reshape((size_row, size_col)), cmap='Greys', interpolation='None')\n",
        "\n",
        "#     frame   = plt.gca()\n",
        "#     frame.axes.get_xaxis().set_visible(False)\n",
        "#     frame.axes.get_yaxis().set_visible(False)\n",
        "\n",
        "# plt.show()\n"
      ],
      "execution_count": 0,
      "outputs": []
    },
    {
      "cell_type": "code",
      "metadata": {
        "id": "k7mF0hXKQuMj",
        "colab_type": "code",
        "colab": {}
      },
      "source": [
        "# learning rate\n",
        "alpha = 0.4\n",
        "# 몇 번 연산할 것인지\n",
        "num_iter = 250\n",
        "imat = np.eye(10, dtype=int)\n",
        "lamda = 0.02 # 0.01 -->best!\n",
        "\n",
        "bias    = np.ones((1,10000), dtype =float)\n",
        "train = np.vstack((bias[:,:6000], list_image[:,:6000]))\n",
        "test = np.vstack((bias[:,6000:], list_image[:, 6000:])) \n",
        "\n",
        "list_label_onehot = np.zeros((10,10000), dtype=int)\n",
        "train_label = list_label_onehot[:,:6000]\n",
        "test_label = list_label_onehot[:,6000:]\n",
        "\n",
        "\n",
        "for i in range(10000):\n",
        "  list_label_onehot[:,i] += imat[:,list_label[i]]\n",
        "\n",
        "def _logistic_unit(_w, node):\n",
        "  y_ = np.matmul(_w,node)\n",
        "  return 1.0 / (1 + np.exp(- y_))\n",
        "\n",
        "def forward(w0, w1, w2, inputx):\n",
        "  k       = inputx.s\n",
        "  hape[1]\n",
        "  y       = np.zeros((196+1,k), dtype=float)\n",
        "  z       = np.zeros((49+1,k), dtype=float)\n",
        "  h       = np.zeros((10,k), dtype=float)\n",
        "  \n",
        "  for n in range(k):\n",
        "    y[:,n] = _logistic_unit(w0, inputx[:,n])\n",
        "    z[:,n] = _logistic_unit(w1, y[:,n])\n",
        "    h[:,n] = _logistic_unit(w2, z[:,n])\n",
        "    \n",
        "  return y,z,h # list_output\n",
        "\n",
        "\n",
        "def cal_cost(output, onehot):\n",
        "\n",
        "  _output     = np.asfarray(output)\n",
        "  oneh        = np.asfarray(onehot)\n",
        "  cost        = np.zeros((10,output.shape[1]), dtype=float)\n",
        "  cost        = np.log(_output) * (-oneh) - (1-oneh) * np.log(1 - _output)\n",
        "     \n",
        "  return cost.sum() # 수정 전 : axis = 1 [2,3,4,5,5....]\n",
        "\n",
        "\n",
        "def gradient_descent(w0,w1,w2,y,z,h, _alpha,_lamda):\n",
        "    \n",
        "    # x--y--z--h\n",
        "    gradient0      = np.zeros((196+1,784+1, 6000), dtype=float)\n",
        "    gradient1      = np.zeros((49+1,196+1, 6000), dtype=float)\n",
        "    gradient2      = np.zeros((10,49+1, 6000), dtype=float)\n",
        "    \n",
        "    _w0      = np.zeros((196+1,784+1), dtype=float)\n",
        "    _w1      = np.zeros((49+1,196+1), dtype=float)\n",
        "    _w2      = np.zeros((10,49+1), dtype=float)\n",
        "    bias    = np.ones((1,10000), dtype =float)\n",
        "\n",
        "    for u in range(49+1):\n",
        "      for w in range(10):\n",
        "        _h = h[w,:]\n",
        "        _onehot = train_label[w,:]\n",
        "        gradient2[w,u,:] = ( _onehot - _h ) * z[u,:]\n",
        "        for v in range(196+1):\n",
        "          gradient1[u,v,:] += w2[w,u] * gradient2[w,u,:] * y[v,:] *(1-z[u,:])\n",
        "          \n",
        "    for k in range(h.shape[1]):\n",
        "      a = gradient1[:,:,k] * w1\n",
        "      a = a.sum(axis=0) # 1* 196\n",
        "      a = a[:,np.newaxis]\n",
        "      train_ = np.asfarray(train[:,k])[np.newaxis]\n",
        "      y_ = np.asfarray(1-y[:,k])[:,np.newaxis]\n",
        "\n",
        "\n",
        "      tmp                  = np.matmul(y_,train_) * np.tile(a,784+1)\n",
        "      tmp                  = np.asfarray(tmp)\n",
        "      gradient0[:,:, k]    = tmp\n",
        "      \n",
        "    #데이터 총 그래디언트 합을 구한다\n",
        "    gradient2 = - (1/6000) * gradient2.sum(axis=2) + _lamda * (w2/(784))\n",
        "    gradient1 = - (1/6000) * gradient1.sum(axis=2) + _lamda * (w1/(196))\n",
        "    gradient0 = - (1/6000) * gradient0.sum(axis=2) + _lamda * (w0/49)\n",
        "    \n",
        "\n",
        "    _w2 = w2 - (gradient2 * alpha)\n",
        "    _w1 = w1 - (gradient1 * alpha)\n",
        "    _w0 = w0 - (gradient0 * alpha)\n",
        "    \n",
        "    return _w0, _w1, _w2\n",
        "\n",
        "\n",
        "def cal_accuracy(output, labels):\n",
        "  \n",
        "  cnt =  0\n",
        "  for i in range(len(labels)):\n",
        "    index = np.argmax(output[:,i])\n",
        "    if index == labels[i]:\n",
        "      cnt+=1\n",
        "\n",
        "  return (cnt/len(labels))*100\n",
        "\n",
        "\n",
        "\n",
        "def showImage(output, labels):\n",
        "  correct     =  [\"\",\"\",\"\",\"\",\"\",\"\",\"\",\"\",\"\",\"\"]\n",
        "  wrong       =  [\"\",\"\",\"\",\"\",\"\",\"\",\"\",\"\",\"\",\"\"]\n",
        "  cnt =  0\n",
        "  for i in range(len(labels)):\n",
        "    index = np.argmax(output[:,i])\n",
        "    if index == labels[i]:\n",
        "      if correct[index] ==\"\":\n",
        "        correct[index] = i\n",
        "    else:\n",
        "      if wrong[index] == \"\":\n",
        "        wrong[index] = i\n",
        "\n",
        "  return correct, wrong"
      ],
      "execution_count": 0,
      "outputs": []
    },
    {
      "cell_type": "code",
      "metadata": {
        "id": "-Z1fIWd-9m7b",
        "colab_type": "code",
        "colab": {}
      },
      "source": [
        "# train = list_image[:,0:6000]\n",
        "# test = list_image[:, 6000:-1] \n",
        "# train_label = list_label_onehot[:,0:6000]\n",
        "# test_label = list_label_onehot[:,6000:-1]\n",
        "\n",
        "def find_optimal(_alpha, _iter, _lamda):\n",
        "    _cost       =  []\n",
        "    _cost2      =  []\n",
        "    _accuracy   =  []\n",
        "    _accuracy2  =  []\n",
        "    w =[]\n",
        "    correct     =  np.zeros(10, dtype=int)\n",
        "    wrong       =  np.zeros(10, dtype=int)\n",
        " \n",
        "\n",
        "    # 784 196 49 10\n",
        "    _w0      = np.random.randn(196+1, 784+1)/np.sqrt(784/2)\n",
        "    _w1      = np.random.randn(49+1, 196+1)/np.sqrt(196/2)\n",
        "    _w2      = np.random.randn(10, 49+1)/np.sqrt(49/2)\n",
        "    \n",
        "    # data seperation and forward propagation \n",
        "    \n",
        "    y,z,h = forward(_w0,_w1,_w2, train)\n",
        "    ty, tz, th = forward(_w0,_w1,_w2, test)\n",
        "\n",
        "    for i in range(0,_iter):\n",
        "      print(\"iteration:\", i)      \n",
        "      # 업데이트는 잘 됨..\n",
        "      _w0, _w1, _w2 = gradient_descent(_w0,_w1,_w2,y,z,h,_alpha, _lamda)\n",
        "      y, z, h       = forward(_w0,_w1,_w2, train)\n",
        "      ty, tz, th    = forward(_w0,_w1,_w2, test)\n",
        "\n",
        "      _cost.append(cal_cost(h,train_label))\n",
        "      _cost2.append(cal_cost(th,test_label))\n",
        "\n",
        "      _accuracy.append(cal_accuracy(h,list_label[:6000]))\n",
        "      _accuracy2.append(cal_accuracy(th,list_label[6000:]))\n",
        "      print(_accuracy[-1])\n",
        "    \n",
        "    correct1, wrong1 = showImage(h, list_label[:6000])\n",
        "    correct2, wrong2 = showImage(th, list_label[6000:])\n",
        "\n",
        "    return _cost, _cost2, _accuracy, _accuracy2, correct1 ,wrong1, correct2, wrong2\n",
        "\n",
        "cost, cost2, accuracy, accuracy2, img11, img12, img21, img22 = find_optimal(alpha, num_iter, lamda)\n"
      ],
      "execution_count": 0,
      "outputs": []
    },
    {
      "cell_type": "markdown",
      "metadata": {
        "id": "vNkZ_EPxtI81",
        "colab_type": "text"
      },
      "source": [
        "## 1. plot the loss curve "
      ]
    },
    {
      "cell_type": "code",
      "metadata": {
        "id": "vrsmGu72rL_h",
        "colab_type": "code",
        "colab": {}
      },
      "source": [
        "import matplotlib.pyplot as plt\n",
        "\n",
        "plt.plot(cost, c ='b')\n",
        "plt.plot(cost2, c ='r')\n",
        "plt.show()\n"
      ],
      "execution_count": 0,
      "outputs": []
    },
    {
      "cell_type": "markdown",
      "metadata": {
        "id": "B9wCaj5IvTMK",
        "colab_type": "text"
      },
      "source": [
        "## . plot the accuracy value"
      ]
    },
    {
      "cell_type": "code",
      "metadata": {
        "id": "gVns2BlJvWqM",
        "colab_type": "code",
        "colab": {}
      },
      "source": [
        "plt.plot(accuracy, c= 'b')\n",
        "plt.plot(accuracy2, c= 'r')\n",
        "plt.show()"
      ],
      "execution_count": 0,
      "outputs": []
    },
    {
      "cell_type": "markdown",
      "metadata": {
        "id": "qBzdUYVaxDuM",
        "colab_type": "text"
      },
      "source": [
        "## 3. plot the accuracy value"
      ]
    },
    {
      "cell_type": "code",
      "metadata": {
        "id": "HcmP17bdvcyI",
        "colab_type": "code",
        "colab": {}
      },
      "source": [
        "print(\"training data accuracy : \",accuracy[-1],\"%\")\n",
        "print(\"test data accuracy : \",accuracy2[-1], \"%\")"
      ],
      "execution_count": 0,
      "outputs": []
    },
    {
      "cell_type": "markdown",
      "metadata": {
        "id": "Fb3yLhZWxJiL",
        "colab_type": "text"
      },
      "source": [
        "## 4. plot the classification example"
      ]
    },
    {
      "cell_type": "code",
      "metadata": {
        "id": "Y-sE6H_Iykry",
        "colab_type": "code",
        "colab": {}
      },
      "source": [
        "print(\"correct answer image : \")\n",
        "for i in range(10):\n",
        "    plt.subplot(2, 5, i+1)\n",
        "    plt.imshow(list_image[:,img11[i]].reshape((size_row, size_col)), cmap='Greys', interpolation='None')\n",
        "    frame   = plt.gca()\n",
        "    frame.axes.get_xaxis().set_visible(False)\n",
        "    frame.axes.get_yaxis().set_visible(False)\n",
        "plt.show()\n",
        "\n",
        "print(\"wrong answer image :\")\n",
        "for i in range(10):\n",
        "    plt.subplot(2, 5, i+1)\n",
        "    plt.imshow(list_image[:,img12[i]].reshape((size_row, size_col)), cmap='Greys', interpolation='None')\n",
        "    frame   = plt.gca()\n",
        "    frame.axes.get_xaxis().set_visible(False)\n",
        "    frame.axes.get_yaxis().set_visible(False)\n",
        "plt.show()\n"
      ],
      "execution_count": 0,
      "outputs": []
    },
    {
      "cell_type": "markdown",
      "metadata": {
        "id": "ypnEGQ_rxSwQ",
        "colab_type": "text"
      },
      "source": [
        "## 5. testing accuracy"
      ]
    },
    {
      "cell_type": "code",
      "metadata": {
        "id": "gQ6ukdySxWOl",
        "colab_type": "code",
        "colab": {}
      },
      "source": [
        "print(\"test data accuracy : \",accuracy2[-1], \"%\")"
      ],
      "execution_count": 0,
      "outputs": []
    }
  ]
}