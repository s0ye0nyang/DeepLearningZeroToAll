{
  "nbformat": 4,
  "nbformat_minor": 0,
  "metadata": {
    "colab": {
      "name": "머신러닝과제03주차_양소연.ipynb",
      "provenance": [],
      "collapsed_sections": [],
      "authorship_tag": "ABX9TyOUYqx9QNPjSwhZ7rMnMlrb",
      "include_colab_link": true
    },
    "kernelspec": {
      "name": "python3",
      "display_name": "Python 3"
    }
  },
  "cells": [
    {
      "cell_type": "markdown",
      "metadata": {
        "id": "view-in-github",
        "colab_type": "text"
      },
      "source": [
        "<a href=\"https://colab.research.google.com/github/s0ye0nyang/DeepLearningZeroToAll/blob/master/%EB%A8%B8%EC%8B%A0%EB%9F%AC%EB%8B%9D%EA%B3%BC%EC%A0%9C03%EC%A3%BC%EC%B0%A8_%EC%96%91%EC%86%8C%EC%97%B0.ipynb\" target=\"_parent\"><img src=\"https://colab.research.google.com/assets/colab-badge.svg\" alt=\"Open In Colab\"/></a>"
      ]
    },
    {
      "cell_type": "markdown",
      "metadata": {
        "id": "Me642GrvzOxn",
        "colab_type": "text"
      },
      "source": [
        "#### Data\n",
        "\n",
        "- load a set of data points $\\{ (x^{(i)}, y^{(i)}) \\}$ from the given CSV file (data.csv)\n",
        "\n"
      ]
    },
    {
      "cell_type": "markdown",
      "metadata": {
        "id": "jwWebnz60tI7",
        "colab_type": "text"
      },
      "source": [
        "1. input points"
      ]
    },
    {
      "cell_type": "code",
      "metadata": {
        "id": "ughBwoCF-QYM",
        "colab_type": "code",
        "colab": {}
      },
      "source": [
        "import numpy as np\n",
        "import matplotlib.pyplot as plt\n",
        "\n",
        "path = \"/content/drive/My Drive/Data/data - data.csv\"\n",
        "data = np.genfromtxt(path, delimiter=',')\n",
        "\n",
        "x_data = data[:, 0]\n",
        "y_data = data[:, 1]\n",
        "\n",
        "plt.figure(figsize=(8, 8))\n",
        "plt.scatter(x_data, y_data, alpha=0.3, c='k')\n",
        "plt.show()\n"
      ],
      "execution_count": 0,
      "outputs": []
    },
    {
      "cell_type": "code",
      "metadata": {
        "id": "y-GQWy4F_paY",
        "colab_type": "code",
        "colab": {}
      },
      "source": [
        "!ls"
      ],
      "execution_count": 0,
      "outputs": []
    },
    {
      "cell_type": "markdown",
      "metadata": {
        "id": "ZrRafv__0KNo",
        "colab_type": "text"
      },
      "source": [
        "#### Linear Model\n",
        "\n",
        "- $h_\\theta(x) = \\theta_0 + \\theta_1 x$, $\\quad$ where $\\theta = (\\theta_0, \\theta_1)$ and $\\theta_0, \\theta_1 \\in \\mathbb{R}$\n",
        "\n",
        "#### Objective Function\n",
        "\n",
        "- $J(\\theta_0, \\theta_1) = \\frac{1}{2 m} \\sum_{i=1}^m ( \\theta_0 + \\theta_1 x^{(i)} - y^{(i)} )^2$"
      ]
    },
    {
      "cell_type": "code",
      "metadata": {
        "id": "P-de5S2m3mgY",
        "colab_type": "code",
        "colab": {}
      },
      "source": [
        "# learning rate\n",
        "alpha = 0.05\n",
        "# 몇 번 연산할 것인지\n",
        "num_iter = 50\n",
        "#초기값 설정\n",
        "init_t0 = 0\n",
        "init_t1 = 0\n",
        "\n",
        "# 파라미터에 따른 cost 값을 나타내는 함수\n",
        "def objfunc(_t0, _t1, data):\n",
        "    obj = 0\n",
        "    m= float(len(x_data))\n",
        "    \n",
        "    for i in range(1, len(data)) :\n",
        "      x = data[i, 0]\n",
        "      y = data[i, 1]\n",
        "      obj += (y - (_t0 + _t1*x)) **2\n",
        "    \n",
        "    return obj/m \n"
      ],
      "execution_count": 0,
      "outputs": []
    },
    {
      "cell_type": "markdown",
      "metadata": {
        "id": "hil2qnWc5xuJ",
        "colab_type": "text"
      },
      "source": [
        "#### Gradient Descent\n",
        " \n",
        "- $\\theta_0^{(t+1)} = \\theta_0^{(t)} - \\alpha \\frac{1}{m} \\sum_{i=1}^{m} (h_\\theta(x^{(i)}) - y^{(i)})$\n",
        "- $\\theta_1^{(t+1)} = \\theta_1^{(t)} - \\alpha \\frac{1}{m} \\sum_{i=1}^{m} (h_\\theta(x^{(i)}) - y^{(i)}) x^{(i)}$"
      ]
    },
    {
      "cell_type": "code",
      "metadata": {
        "id": "atsuC35J5yjQ",
        "colab_type": "code",
        "colab": {}
      },
      "source": [
        "def gradient_descent(_t0, _t1, _data, _alpha):\n",
        "\n",
        "    gradient1 =0\n",
        "    gradient0 =0\n",
        "    m= float(len(data))\n",
        "    for i in range(0, len(data)):\n",
        "      x = _data[i, 0]\n",
        "      y = _data[i, 1]\n",
        "     \n",
        "      hypothesis = _t0 + _t1 * x \n",
        "     \n",
        "      gradient1 += - (1/m) * x * (y-hypothesis)\n",
        "      gradient0 += - (1/m) * (y - hypothesis)\n",
        "  \n",
        "    #세타를 업데이트한다\n",
        "    newt1 = _t1 - (_alpha * gradient1)\n",
        "    newt0 = _t0 - (_alpha * gradient0)\n",
        "  \n",
        "    return newt0, newt1\n",
        "\n",
        "def find_optimal(init_0, init_1, _data, _alpha, _iter):\n",
        "  \n",
        "    #그래프 그릴때 필요\n",
        "    t0_arr = []\n",
        "    t1_arr = []\n",
        "    cost = []\n",
        "\n",
        "    #초기 세타 값\n",
        "    t0 =init_0\n",
        "    t1 =init_1\n",
        "\n",
        "    for i in range(_iter):\n",
        "      # 초기 cost value\n",
        "      t0_arr.append(t0)\n",
        "      t1_arr.append(t1)\n",
        "      cost.append(objfunc(t0, t1, _data))\n",
        "      t0, t1 = gradient_descent(t0, t1, _data, _alpha)\n",
        "     \n",
        "      \n",
        "\n",
        "  #최적일때의 세타0, 세타1, cost배열, 각각 세타 배열 리턴\n",
        "    return [t0, t1, cost, t0_arr, t1_arr]"
      ],
      "execution_count": 0,
      "outputs": []
    },
    {
      "cell_type": "markdown",
      "metadata": {
        "id": "y5XJxi9I0N5H",
        "colab_type": "text"
      },
      "source": [
        "### 2. linear regression result\n"
      ]
    },
    {
      "cell_type": "code",
      "metadata": {
        "id": "SBTGi11M2A0c",
        "colab_type": "code",
        "colab": {}
      },
      "source": [
        "t0, t1, cost_graph, theta0, theta1 = find_optimal(init_t0, init_t1, data, alpha, num_iter)\n",
        "h = t0 + (t1 * x_data)\n",
        "plt.figure(figsize=(10, 10))\n",
        "plt.scatter(x_data, y_data, alpha= 0.3, c= 'k')\n",
        "plt.plot(x_data, h, c= 'r')\n",
        "\n",
        "plt.show()"
      ],
      "execution_count": 0,
      "outputs": []
    },
    {
      "cell_type": "markdown",
      "metadata": {
        "id": "EJAKGK6n0bNl",
        "colab_type": "text"
      },
      "source": [
        "### 3. plot the energy surface\n",
        "#### Energy Surface\n",
        "\n",
        "- three dimentional surface by $(\\theta_0, \\theta_1, J(\\theta_0, \\theta_1))$\n"
      ]
    },
    {
      "cell_type": "code",
      "metadata": {
        "id": "frdhq4pyOnBu",
        "colab_type": "code",
        "colab": {}
      },
      "source": [
        "plt.plot(cost_graph)\n",
        "plt.xlabel('No. of iterations')\n",
        "plt.ylabel('Cost')\n",
        "plt.title('Cost per iteration')\n",
        "plt.show()"
      ],
      "execution_count": 0,
      "outputs": []
    },
    {
      "cell_type": "code",
      "metadata": {
        "id": "CtGkdX6D2Cz9",
        "colab_type": "code",
        "colab": {}
      },
      "source": [
        "from mpl_toolkits.mplot3d import Axes3D\n",
        "import matplotlib.pyplot as plt\n",
        "from matplotlib import cm\n",
        "import numpy as np\n",
        "\n",
        "fig= plt.figure(figsize=(10,10))\n",
        "ax = fig.add_subplot(111, projection='3d')\n",
        "\n",
        "t1 = np.arange(-30,30,0.1)\n",
        "t0 = np.arange(-30,30,0.1)\n",
        "\n",
        "t1,t0 = np.meshgrid(t1,t0)\n",
        "\n",
        "#theta0 = x , theta1=y\n",
        "\n",
        "#obj = 0\n",
        "#m= float(len(x_data))   \n",
        "#for i in range(1, len(data)) :\n",
        "#    x = data[i, 0]\n",
        "#    y = data[i, 1]\n",
        "#    obj += (y - (t0 + t1*x)) **2    \n",
        "#Z = obj/m \n",
        "plt.xlabel('X')\n",
        "plt.ylabel('Y')\n",
        "Z = objfunc(t0,t1,data)\n",
        "\n",
        "print(Z)\n",
        "\n",
        "ax.plot_surface(t1,t0, Z, cmap='viridis')\n",
        "fig.colorbar(surf,shrink=0.5,aspect=5)\n",
        "\n",
        "plt.show()\n"
      ],
      "execution_count": 0,
      "outputs": []
    },
    {
      "cell_type": "markdown",
      "metadata": {
        "id": "HzsbOge91yDX",
        "colab_type": "text"
      },
      "source": [
        "### 4. plot the gradient descent path on the energy surface  "
      ]
    },
    {
      "cell_type": "code",
      "metadata": {
        "id": "LOoGiKStJwGk",
        "colab_type": "code",
        "colab": {}
      },
      "source": [
        "from mpl_toolkits.mplot3d import Axes3D\n",
        "import matplotlib.pyplot as plt\n",
        "from matplotlib import cm\n",
        "import numpy as np\n",
        "\n",
        "fig= plt.figure(figsize=(10,10))\n",
        "ax = fig.add_subplot(111, projection='3d')\n",
        "\n",
        "t1 = np.arange(-30,30,0.1)\n",
        "t0 = np.arange(-30,30,0.1)\n",
        "\n",
        "t1,t0 = np.meshgrid(t1,t0)\n",
        "\n",
        "#theta0 = x , theta1=y\n",
        "\n",
        "#obj = 0\n",
        "#m= float(len(x_data))   \n",
        "#for i in range(1, len(data)) :\n",
        "#    x = data[i, 0]\n",
        "#    y = data[i, 1]\n",
        "#    obj += (y - (t0 + t1*x)) **2    \n",
        "#Z = obj/m \n",
        "plt.xlabel('X')\n",
        "plt.ylabel('Y')\n",
        "Z = objfunc(t0,t1,data)\n",
        "\n",
        "print(Z)\n",
        "\n",
        "ax.plot_surface(t1,t0, Z, cmap='viridis')\n",
        "fig.colorbar(surf,shrink=0.5,aspect=5)\n",
        "\n",
        "plt.plot(theta1,theta0,cost_graph,c='r')\n",
        "plt.show()\n"
      ],
      "execution_count": 0,
      "outputs": []
    },
    {
      "cell_type": "markdown",
      "metadata": {
        "id": "RmBi2zRspuiS",
        "colab_type": "text"
      },
      "source": [
        "## 확대 ver"
      ]
    },
    {
      "cell_type": "code",
      "metadata": {
        "id": "0PP-H_3Kpb57",
        "colab_type": "code",
        "colab": {}
      },
      "source": [
        "from mpl_toolkits.mplot3d import Axes3D\n",
        "import matplotlib.pyplot as plt\n",
        "from matplotlib import cm\n",
        "import numpy as np\n",
        "\n",
        "fig= plt.figure(figsize=(10,10))\n",
        "ax = fig.add_subplot(111, projection='3d')\n",
        "\n",
        "t1 = np.arange(-30,30,0.1)\n",
        "t0 = np.arange(-30,30,0.1)\n",
        "\n",
        "t1,t0 = np.meshgrid(t1,t0)\n",
        "\n",
        "plt.xlabel('X')\n",
        "plt.ylabel('Y')\n",
        "\n",
        "plt.plot(theta0,theta1,cost_graph,c='r')\n",
        "plt.show()"
      ],
      "execution_count": 0,
      "outputs": []
    }
  ]
}